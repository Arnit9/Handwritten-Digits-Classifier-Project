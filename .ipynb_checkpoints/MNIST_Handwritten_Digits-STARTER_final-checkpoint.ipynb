{
 "cells": [
  {
   "cell_type": "markdown",
   "metadata": {},
   "source": [
    "# Introduction\n",
    "\n",
    "In this project, you will build a neural network of your own design to evaluate the MNIST dataset.\n",
    "\n",
    "Some of the benchmark results on MNIST include can be found [on Yann LeCun's page](http://yann.lecun.com/exdb/mnist/) and include:\n",
    "\n",
    "88% [Lecun et al., 1998](http://yann.lecun.com/exdb/publis/pdf/lecun-98.pdf)\n",
    "95.3% [Lecun et al., 1998](http://yann.lecun.com/exdb/publis/pdf/lecun-98.pdf)\n",
    "99.65% [Ciresan et al., 2011](http://people.idsia.ch/~juergen/ijcai2011.pdf)\n",
    "\n",
    "MNIST is a great dataset for sanity checking your models, since the accuracy levels achieved by large convolutional neural networks and small linear models are both quite high. This makes it important to be familiar with the data.\n",
    "\n",
    "## Imports"
   ]
  },
  {
   "cell_type": "code",
   "execution_count": 1,
   "metadata": {},
   "outputs": [],
   "source": [
    "## This cell contains the essential imports you will need – DO NOT CHANGE THE CONTENTS! ##\n",
    "import torch\n",
    "from torch import nn\n",
    "from torch import optim\n",
    "import torch.nn.functional as F\n",
    "from torch.utils.data import DataLoader\n",
    "from torchvision import transforms\n",
    "from torchvision import datasets\n",
    "import matplotlib.pyplot as plt\n",
    "from sklearn.datasets import fetch_california_housing\n",
    "from sklearn.model_selection import train_test_split\n",
    "import numpy as np\n",
    "\n",
    "%matplotlib inline"
   ]
  },
  {
   "cell_type": "markdown",
   "metadata": {},
   "source": [
    "## Load the Dataset\n",
    "\n",
    "Specify your transforms as a list if you intend to .\n",
    "The transforms module is already loaded as `transforms`.\n",
    "\n",
    "MNIST is fortunately included in the torchvision module.\n",
    "Then, you can create your dataset using the `MNIST` object from `torchvision.datasets` ([the documentation is available here](https://pytorch.org/vision/stable/datasets.html#mnist)).\n",
    "Make sure to specify `download=True`! \n",
    "\n",
    "Once your dataset is created, you'll also need to define a `DataLoader` from the `torch.utils.data` module for both the train and the test set."
   ]
  },
  {
   "cell_type": "code",
   "execution_count": 2,
   "metadata": {},
   "outputs": [
    {
     "name": "stderr",
     "output_type": "stream",
     "text": [
      "/opt/conda/lib/python3.7/site-packages/torchvision/datasets/mnist.py:498: UserWarning: The given NumPy array is not writable, and PyTorch does not support non-writable tensors. This means writing to this tensor will result in undefined behavior. You may want to copy the array to protect its data or make it writable before converting it to a tensor. This type of warning will be suppressed for the rest of this program. (Triggered internally at  ../torch/csrc/utils/tensor_numpy.cpp:178.)\n",
      "  return torch.from_numpy(parsed.astype(m[2], copy=False)).view(*s)\n"
     ]
    }
   ],
   "source": [
    "# Define transforms\n",
    "transform = transforms.Compose([transforms.ToTensor(), transforms.Normalize((0.5), (0.5))])\n",
    "\n",
    "# Create training set and define training dataloader\n",
    "training_data = datasets.MNIST(root=\"data\", train=True, download=True, transform=transform)\n",
    "train_loader = DataLoader(training_data, batch_size=32, shuffle=True)\n",
    "\n",
    "# Create test set and define test dataloader\n",
    "test_data = datasets.MNIST(root=\"data\", train=False, download=True, transform=transform)\n",
    "test_loader = DataLoader(test_data, batch_size=32)"
   ]
  },
  {
   "cell_type": "markdown",
   "metadata": {},
   "source": [
    "## Justify your preprocessing\n",
    "\n",
    "In your own words, why did you choose the transforms you chose? If you didn't use any preprocessing steps, why not?"
   ]
  },
  {
   "cell_type": "markdown",
   "metadata": {},
   "source": [
    "1. transforms.ToTensor() : This change from PIL image into tensor data types\n",
    "2. transforms.Normalize((0.5), (0.5)): This normalize the tensor"
   ]
  },
  {
   "cell_type": "markdown",
   "metadata": {},
   "source": [
    "## Explore the Dataset\n",
    "Using matplotlib, numpy, and torch, explore the dimensions of your data.\n",
    "\n",
    "You can view images using the `show5` function defined below – it takes a data loader as an argument.\n",
    "Remember that normalized images will look really weird to you! You may want to try changing your transforms to view images.\n",
    "Typically using no transforms other than `toTensor()` works well for viewing – but not as well for training your network.\n",
    "If `show5` doesn't work, go back and check your code for creating your data loaders and your training/test sets."
   ]
  },
  {
   "cell_type": "code",
   "execution_count": 3,
   "metadata": {},
   "outputs": [],
   "source": [
    "## This cell contains a function for showing 5 images from a dataloader – DO NOT CHANGE THE CONTENTS! ##\n",
    "def show5(img_loader):\n",
    "    dataiter = iter(img_loader)\n",
    "    \n",
    "    batch = next(dataiter)\n",
    "    labels = batch[1][0:5]\n",
    "    images = batch[0][0:5]\n",
    "    for i in range(5):\n",
    "        print(int(labels[i].detach()))\n",
    "    \n",
    "        image = images[i].numpy()\n",
    "        plt.imshow(image.T.squeeze().T)\n",
    "        plt.show()"
   ]
  },
  {
   "cell_type": "code",
   "execution_count": 4,
   "metadata": {},
   "outputs": [
    {
     "name": "stdout",
     "output_type": "stream",
     "text": [
      "Number of training examples: 60000\n",
      "Shape of train image: torch.Size([1, 28, 28])\n",
      "Number of test examples: 10000\n",
      "Shape of train image: torch.Size([1, 28, 28])\n"
     ]
    }
   ],
   "source": [
    "# Explore data\n",
    "print(\"Number of training examples: {}\".format(len(training_data)))\n",
    "print(\"Shape of train image: {}\".format(training_data[0][0].shape))\n",
    "\n",
    "print(\"Number of test examples: {}\".format(len(test_data)))\n",
    "print(\"Shape of train image: {}\".format(test_data[0][0].shape))"
   ]
  },
  {
   "cell_type": "code",
   "execution_count": 5,
   "metadata": {
    "scrolled": false
   },
   "outputs": [
    {
     "name": "stdout",
     "output_type": "stream",
     "text": [
      "1\n"
     ]
    },
    {
     "data": {
      "image/png": "[encoded data removed]",
      "text/plain": [
       "<Figure size 432x288 with 1 Axes>"
      ]
     },
     "metadata": {
      "needs_background": "light"
     },
     "output_type": "display_data"
    },
    {
     "name": "stdout",
     "output_type": "stream",
     "text": [
      "4\n"
     ]
    },
    {
     "data": {
      "image/png": "[encoded data removed]",
      "text/plain": [
       "<Figure size 432x288 with 1 Axes>"
      ]
     },
     "metadata": {
      "needs_background": "light"
     },
     "output_type": "display_data"
    },
    {
     "name": "stdout",
     "output_type": "stream",
     "text": [
      "6\n"
     ]
    },
    {
     "data": {
      "image/png": "[encoded data removed]",
      "text/plain": [
       "<Figure size 432x288 with 1 Axes>"
      ]
     },
     "metadata": {
      "needs_background": "light"
     },
     "output_type": "display_data"
    },
    {
     "name": "stdout",
     "output_type": "stream",
     "text": [
      "1\n"
     ]
    },
    {
     "data": {
      "image/png": "[encoded data removed]",
      "text/plain": [
       "<Figure size 432x288 with 1 Axes>"
      ]
     },
     "metadata": {
      "needs_background": "light"
     },
     "output_type": "display_data"
    },
    {
     "name": "stdout",
     "output_type": "stream",
     "text": [
      "5\n"
     ]
    },
    {
     "data": {
      "image/png": "[encoded data removed]",
      "text/plain": [
       "<Figure size 432x288 with 1 Axes>"
      ]
     },
     "metadata": {
      "needs_background": "light"
     },
     "output_type": "display_data"
    }
   ],
   "source": [
    "show5(train_loader)"
   ]
  },
  {
   "cell_type": "markdown",
   "metadata": {},
   "source": [
    "## Build your Neural Network\n",
    "Using the layers in `torch.nn` (which has been imported as `nn`) and the `torch.nn.functional` module (imported as `F`), construct a neural network based on the parameters of the dataset.\n",
    "Use any architecture you like. \n",
    "\n",
    "*Note*: If you did not flatten your tensors in your transforms or as part of your preprocessing and you are using only `Linear` layers, make sure to use the `Flatten` layer in your network!"
   ]
  },
  {
   "cell_type": "code",
   "execution_count": 6,
   "metadata": {},
   "outputs": [],
   "source": [
    "import torch\n",
    "import torch.nn as nn\n",
    "import torch.optim as optim\n",
    "\n",
    "class NeuralNetwork(nn.Module):\n",
    "    def __init__(self, input_size, hidden_size, num_classes, activation_function):\n",
    "        super(NeuralNetwork, self).__init__()\n",
    "        self.layer1 = nn.Linear(input_size, hidden_size)\n",
    "        self.layer2 = nn.Linear(hidden_size, hidden_size)\n",
    "        self.layer3 = nn.Linear(hidden_size, num_classes)\n",
    "        self.activation_function = activation_function\n",
    "\n",
    "    def forward(self, x):\n",
    "        x = self.activation_function(self.layer1(x))\n",
    "        x = self.activation_function(self.layer2(x))\n",
    "        x = self.layer3(x)\n",
    "        return x"
   ]
  },
  {
   "cell_type": "markdown",
   "metadata": {},
   "source": [
    "Specify a loss function and an optimizer, and instantiate the model.\n",
    "\n",
    "If you use a less common loss function, please note why you chose that loss function in a comment."
   ]
  },
  {
   "cell_type": "code",
   "execution_count": 7,
   "metadata": {},
   "outputs": [],
   "source": [
    "# criterion = nn.CrossEntropyLoss()\n",
    "# optimizer = optim.Adam(model.parameters(), lr=1e-3)\n",
    "# reduce_lr = ReduceLROnPlateau(monitor = 'val_acc', patience = 3, verbose = 1, factor = 0.5, min_lr = 0.00001)"
   ]
  },
  {
   "cell_type": "markdown",
   "metadata": {},
   "source": [
    "## Running your Neural Network\n",
    "Use whatever method you like to train your neural network, and ensure you record the average loss at each epoch. \n",
    "Don't forget to use `torch.device()` and the `.to()` method for both your model and your data if you are using GPU!\n",
    "\n",
    "If you want to print your loss **during** each epoch, you can use the `enumerate` function and print the loss after a set number of batches. 250 batches works well for most people!"
   ]
  },
  {
   "cell_type": "markdown",
   "metadata": {},
   "source": [
    "Plot the training loss (and validation loss/accuracy, if recorded)."
   ]
  },
  {
   "cell_type": "code",
   "execution_count": 8,
   "metadata": {},
   "outputs": [],
   "source": [
    "def train(network, data_loader, criterion, optimizer, device):\n",
    "    network.train()\n",
    "    correct = 0\n",
    "    total = 0\n",
    "    running_loss = 0.0\n",
    "\n",
    "    for data, target in data_loader:\n",
    "        data, target = data.to(device), target.to(device)\n",
    "        data = data.view(data.shape[0], -1)\n",
    "\n",
    "        optimizer.zero_grad()\n",
    "        output = network(data)\n",
    "        loss = criterion(output, target)\n",
    "        loss.backward()\n",
    "        optimizer.step()\n",
    "        \n",
    "        running_loss += loss.item() * data.size(0)\n",
    "        _, predicted = torch.max(output.data, 1)\n",
    "        total += target.size(0)\n",
    "        correct += (predicted == target).sum().item()\n",
    "            \n",
    "    return running_loss / len(data_loader.dataset), 100 * correct / total"
   ]
  },
  {
   "cell_type": "code",
   "execution_count": 9,
   "metadata": {},
   "outputs": [],
   "source": [
    "def test(network, data_loader, criterion, device):\n",
    "    network.eval()\n",
    "    correct = 0\n",
    "    total = 0\n",
    "    test_loss = 0.0\n",
    "\n",
    "    with torch.no_grad():\n",
    "        for data, target in data_loader:\n",
    "            data, target = data.to(device), target.to(device)\n",
    "            data = data.view(data.shape[0], -1)\n",
    "\n",
    "            output = network(data)\n",
    "            loss = criterion(output, target)\n",
    "            test_loss += loss.item() * data.size(0)\n",
    "            _, predicted = torch.max(output.data, 1)\n",
    "            total += target.size(0)\n",
    "            correct += (predicted == target).sum().item()\n",
    "\n",
    "    return test_loss / len(data_loader.dataset), 100 * correct / total"
   ]
  },
  {
   "cell_type": "code",
   "execution_count": 10,
   "metadata": {},
   "outputs": [
    {
     "name": "stdout",
     "output_type": "stream",
     "text": [
      "Training with ReLU activation function...\n",
      "Epoch [1/10], Train Loss: 0.3299, Train Accuracy: 89.87, Test Loss: 0.1749, Test Accuracy: 94.48%\n",
      "Epoch [2/10], Train Loss: 0.1584, Train Accuracy: 95.04, Test Loss: 0.1300, Test Accuracy: 96.03%\n",
      "Epoch [3/10], Train Loss: 0.1186, Train Accuracy: 96.28, Test Loss: 0.1119, Test Accuracy: 96.30%\n",
      "Epoch [4/10], Train Loss: 0.1012, Train Accuracy: 96.77, Test Loss: 0.0994, Test Accuracy: 97.03%\n",
      "Epoch [5/10], Train Loss: 0.0854, Train Accuracy: 97.25, Test Loss: 0.1081, Test Accuracy: 96.83%\n",
      "Epoch [6/10], Train Loss: 0.0755, Train Accuracy: 97.52, Test Loss: 0.0990, Test Accuracy: 97.12%\n",
      "Epoch [7/10], Train Loss: 0.0666, Train Accuracy: 97.83, Test Loss: 0.1251, Test Accuracy: 96.57%\n",
      "Epoch [8/10], Train Loss: 0.0581, Train Accuracy: 98.07, Test Loss: 0.1150, Test Accuracy: 96.72%\n",
      "Epoch [9/10], Train Loss: 0.0585, Train Accuracy: 98.02, Test Loss: 0.0938, Test Accuracy: 97.31%\n",
      "Epoch [10/10], Train Loss: 0.0512, Train Accuracy: 98.33, Test Loss: 0.1230, Test Accuracy: 96.64%\n",
      "Training with LeakyReLU activation function...\n",
      "Epoch [1/10], Train Loss: 0.3222, Train Accuracy: 90.14, Test Loss: 0.2077, Test Accuracy: 93.43%\n",
      "Epoch [2/10], Train Loss: 0.1556, Train Accuracy: 95.10, Test Loss: 0.1489, Test Accuracy: 95.36%\n",
      "Epoch [3/10], Train Loss: 0.1167, Train Accuracy: 96.30, Test Loss: 0.1073, Test Accuracy: 96.67%\n",
      "Epoch [4/10], Train Loss: 0.0963, Train Accuracy: 96.94, Test Loss: 0.1026, Test Accuracy: 96.74%\n",
      "Epoch [5/10], Train Loss: 0.0854, Train Accuracy: 97.20, Test Loss: 0.1111, Test Accuracy: 96.75%\n",
      "Epoch [6/10], Train Loss: 0.0739, Train Accuracy: 97.63, Test Loss: 0.1035, Test Accuracy: 96.93%\n",
      "Epoch [7/10], Train Loss: 0.0678, Train Accuracy: 97.85, Test Loss: 0.0922, Test Accuracy: 97.23%\n",
      "Epoch [8/10], Train Loss: 0.0612, Train Accuracy: 97.95, Test Loss: 0.0882, Test Accuracy: 97.35%\n",
      "Epoch [9/10], Train Loss: 0.0552, Train Accuracy: 98.19, Test Loss: 0.1400, Test Accuracy: 96.21%\n",
      "Epoch [10/10], Train Loss: 0.0522, Train Accuracy: 98.27, Test Loss: 0.0891, Test Accuracy: 97.57%\n"
     ]
    }
   ],
   "source": [
    "device = torch.device('cuda' if torch.cuda.is_available() else 'cpu')\n",
    "input_size = 784\n",
    "hidden_size = 128\n",
    "num_classes = 10\n",
    "num_epochs = 10\n",
    "learning_rate = 0.001\n",
    "\n",
    "activation_functions = {\n",
    "    'ReLU': nn.ReLU(),\n",
    "    'LeakyReLU': nn.LeakyReLU()\n",
    "}\n",
    "\n",
    "results = {}\n",
    "\n",
    "# Train the model with different activation functions\n",
    "for name, activation_function in activation_functions.items():\n",
    "    print(f\"Training with {name} activation function...\")\n",
    "\n",
    "    model = NeuralNetwork(input_size, hidden_size, num_classes, activation_function).to(device)\n",
    "    criterion = nn.CrossEntropyLoss()\n",
    "    optimizer = optim.Adam(model.parameters(), lr=learning_rate)\n",
    "    scheduler = optim.lr_scheduler.ReduceLROnPlateau(optimizer, 'min', patience = 3, factor = 0.5, min_lr = 0.00001)\n",
    "    \n",
    "    train_loss_history = []\n",
    "    train_accuracy_history = []\n",
    "    \n",
    "    test_loss_history = []\n",
    "    test_accuracy_history = []\n",
    "\n",
    "    for epoch in range(num_epochs):\n",
    "        train_loss, train_accuracy = train(model, train_loader, criterion, optimizer, device)\n",
    "        scheduler.step(train_loss)\n",
    "        \n",
    "        test_loss, test_accuracy = test(model, test_loader, criterion, device)\n",
    "        \n",
    "        train_loss_history.append(train_loss)\n",
    "        train_accuracy_history.append(train_accuracy)\n",
    "        \n",
    "        test_loss_history.append(test_loss)\n",
    "        test_accuracy_history.append(test_accuracy)\n",
    "\n",
    "        print(f\"Epoch [{epoch+1}/{num_epochs}], Train Loss: {train_loss:.4f}, Train Accuracy: {train_accuracy:.2f}, Test Loss: {test_loss:.4f}, Test Accuracy: {test_accuracy:.2f}%\")\n",
    "\n",
    "    results[name] = {\n",
    "        'train_loss_history': train_loss_history,\n",
    "        'train_accuracy_history': train_accuracy_history,\n",
    "        'test_loss_history': test_loss_history,\n",
    "        'test_accuracy_history': test_accuracy_history\n",
    "    }"
   ]
  },
  {
   "cell_type": "code",
   "execution_count": 11,
   "metadata": {},
   "outputs": [
    {
     "data": {
      "image/png": "[encoded data removed]",
      "text/plain": [
       "<Figure size 432x288 with 1 Axes>"
      ]
     },
     "metadata": {
      "needs_background": "light"
     },
     "output_type": "display_data"
    },
    {
     "data": {
      "image/png": "[encoded data removed]",
      "text/plain": [
       "<Figure size 432x288 with 1 Axes>"
      ]
     },
     "metadata": {
      "needs_background": "light"
     },
     "output_type": "display_data"
    },
    {
     "data": {
      "image/png": "[encoded data removed]",
      "text/plain": [
       "<Figure size 432x288 with 1 Axes>"
      ]
     },
     "metadata": {
      "needs_background": "light"
     },
     "output_type": "display_data"
    },
    {
     "data": {
      "image/png": "[encoded data removed]",
      "text/plain": [
       "<Figure size 432x288 with 1 Axes>"
      ]
     },
     "metadata": {
      "needs_background": "light"
     },
     "output_type": "display_data"
    }
   ],
   "source": [
    "# Plot the training loss\n",
    "plt.figure()\n",
    "for name, data in results.items():\n",
    "    plt.plot(data['train_loss_history'], label=name)\n",
    "plt.xlabel('Epoch')\n",
    "plt.ylabel('Training Loss')\n",
    "plt.legend()\n",
    "plt.show()\n",
    "\n",
    "# Plot the training accuracy\n",
    "plt.figure()\n",
    "for name, data in results.items():\n",
    "    plt.plot(data['train_accuracy_history'], label=name)\n",
    "plt.xlabel('Epoch')\n",
    "plt.ylabel('Training Accuracy')\n",
    "plt.legend()\n",
    "plt.show()\n",
    "\n",
    "# Plot the testing loss\n",
    "plt.figure()\n",
    "for name, data in results.items():\n",
    "    plt.plot(data['test_loss_history'], label=name)\n",
    "plt.xlabel('Epoch')\n",
    "plt.ylabel('Testing Loss')\n",
    "plt.legend()\n",
    "plt.show()\n",
    " \n",
    "# Plot the testing accuracy\n",
    "plt.figure()\n",
    "for name, data in results.items():\n",
    "    plt.plot(data['test_accuracy_history'], label=name)\n",
    "plt.xlabel('Epoch')\n",
    "plt.ylabel('Testing Accuracy')\n",
    "plt.legend()\n",
    "plt.show()"
   ]
  },
  {
   "cell_type": "markdown",
   "metadata": {},
   "source": [
    "## Testing your model\n",
    "Using the previously created `DataLoader` for the test set, compute the percentage of correct predictions using the highest probability prediction. \n",
    "\n",
    "If your accuracy is over 90%, great work, but see if you can push a bit further! \n",
    "If your accuracy is under 90%, you'll need to make improvements.\n",
    "Go back and check your model architecture, loss function, and optimizer to make sure they're appropriate for an image classification task."
   ]
  },
  {
   "cell_type": "code",
   "execution_count": 12,
   "metadata": {},
   "outputs": [
    {
     "data": {
      "text/plain": [
       "97.57"
      ]
     },
     "execution_count": 12,
     "metadata": {},
     "output_type": "execute_result"
    }
   ],
   "source": [
    "test_accuracy"
   ]
  },
  {
   "cell_type": "markdown",
   "metadata": {},
   "source": [
    "## Improving your model\n",
    "\n",
    "Once your model is done training, try tweaking your hyperparameters and training again below to improve your accuracy on the test set!"
   ]
  },
  {
   "cell_type": "code",
   "execution_count": 19,
   "metadata": {},
   "outputs": [],
   "source": [
    "# Device configuration\n",
    "device = torch.device('cuda:0' if torch.cuda.is_available() else 'cpu')\n",
    "\n",
    "# Hyper parameters\n",
    "num_epochs = 10\n",
    "num_classes = 10\n",
    "batch_size = 250\n",
    "learning_rate = 0.001\n",
    "keep_prob = 0.8"
   ]
  },
  {
   "cell_type": "code",
   "execution_count": 20,
   "metadata": {},
   "outputs": [
    {
     "name": "stderr",
     "output_type": "stream",
     "text": [
      "/opt/conda/lib/python3.7/site-packages/ipykernel_launcher.py:28: UserWarning: nn.init.xavier_uniform is now deprecated in favor of nn.init.xavier_uniform_.\n"
     ]
    }
   ],
   "source": [
    "import torch\n",
    "import torch.nn as nn\n",
    "import torch.optim as optim\n",
    "\n",
    "class ConvNet(nn.Module):\n",
    "    def __init__(self, num_classes=10):\n",
    "        super(ConvNet, self).__init__()\n",
    "        \n",
    "        self.layer1 = nn.Sequential(\n",
    "            nn.Conv2d(1, 32, kernel_size=3, stride=1, padding=1),\n",
    "            nn.ReLU(),\n",
    "            nn.MaxPool2d(kernel_size=2, stride=2),\n",
    "            torch.nn.Dropout(p=1 - keep_prob))\n",
    "        \n",
    "        self.layer2 = nn.Sequential(\n",
    "            nn.Conv2d(32, 64, kernel_size=3, stride=1, padding=1),\n",
    "            nn.ReLU(),\n",
    "            nn.MaxPool2d(kernel_size=2, stride=2),\n",
    "            torch.nn.Dropout(p=1 - keep_prob))\n",
    "        \n",
    "        self.layer3 = nn.Sequential(\n",
    "            nn.Conv2d(64, 128, kernel_size=3, stride=1, padding=1),\n",
    "            nn.ReLU(),\n",
    "            nn.MaxPool2d(kernel_size=2, stride=2, padding=1),\n",
    "            torch.nn.Dropout(p=1 - keep_prob))\n",
    "        \n",
    "        self.fc1 = torch.nn.Linear(4 * 4 * 128, 625, bias=True)\n",
    "        torch.nn.init.xavier_uniform(self.fc1.weight)\n",
    "        self.layer4 = torch.nn.Sequential(\n",
    "            self.fc1,\n",
    "            torch.nn.ReLU(),\n",
    "            torch.nn.Dropout(p=1 - keep_prob))\n",
    "        \n",
    "        self.fc2 = torch.nn.Linear(625, 10, bias=True)\n",
    "        torch.nn.init.xavier_uniform_(self.fc2.weight) # initialize parameters\n",
    "        \n",
    "        \n",
    "    def forward(self, x):\n",
    "        out = self.layer1(x)\n",
    "        out = self.layer2(out)\n",
    "        out = self.layer3(out)\n",
    "        out = out.view(out.size(0), -1)   # Flatten them for FC\n",
    "        out = self.fc1(out)\n",
    "        out = self.fc2(out)\n",
    "        return out\n",
    "\n",
    "model = ConvNet(num_classes).to(device)"
   ]
  },
  {
   "cell_type": "code",
   "execution_count": 21,
   "metadata": {},
   "outputs": [],
   "source": [
    "criterion = torch.nn.CrossEntropyLoss()\n",
    "optimizer = torch.optim.Adam(params=model.parameters(), lr=learning_rate, weight_decay=0.01)\n",
    "scheduler = optim.lr_scheduler.ReduceLROnPlateau(optimizer, 'min', patience = 3, factor = 0.5, min_lr = 0.00001)"
   ]
  },
  {
   "cell_type": "code",
   "execution_count": 22,
   "metadata": {
    "scrolled": false
   },
   "outputs": [
    {
     "name": "stdout",
     "output_type": "stream",
     "text": [
      "Epoch [1/10], Step [100/1875], Loss: 2.2754\n",
      "Epoch [1/10], Step [200/1875], Loss: 2.2809\n",
      "Epoch [1/10], Step [300/1875], Loss: 2.2538\n",
      "Epoch [1/10], Step [400/1875], Loss: 2.2570\n",
      "Epoch [1/10], Step [500/1875], Loss: 2.2113\n",
      "Epoch [1/10], Step [600/1875], Loss: 2.1422\n",
      "Epoch [1/10], Step [700/1875], Loss: 2.0975\n",
      "Epoch [1/10], Step [800/1875], Loss: 1.9799\n",
      "Epoch [1/10], Step [900/1875], Loss: 1.9224\n",
      "Epoch [1/10], Step [1000/1875], Loss: 1.7375\n",
      "Epoch [1/10], Step [1100/1875], Loss: 1.5119\n",
      "Epoch [1/10], Step [1200/1875], Loss: 1.1384\n",
      "Epoch [1/10], Step [1300/1875], Loss: 1.2807\n",
      "Epoch [1/10], Step [1400/1875], Loss: 1.0856\n",
      "Epoch [1/10], Step [1500/1875], Loss: 1.0059\n",
      "Epoch [1/10], Step [1600/1875], Loss: 0.9745\n",
      "Epoch [1/10], Step [1700/1875], Loss: 0.8278\n",
      "Epoch [1/10], Step [1800/1875], Loss: 0.7480\n",
      "Valid Epoch [1/10], Step [1875/1875], Loss: 0.4884\n",
      "Epoch [2/10], Step [100/1875], Loss: 0.4680\n",
      "Epoch [2/10], Step [200/1875], Loss: 0.4093\n",
      "Epoch [2/10], Step [300/1875], Loss: 0.3788\n",
      "Epoch [2/10], Step [400/1875], Loss: 0.4885\n",
      "Epoch [2/10], Step [500/1875], Loss: 0.2665\n",
      "Epoch [2/10], Step [600/1875], Loss: 0.3638\n",
      "Epoch [2/10], Step [700/1875], Loss: 0.5598\n",
      "Epoch [2/10], Step [800/1875], Loss: 0.4089\n",
      "Epoch [2/10], Step [900/1875], Loss: 0.2918\n",
      "Epoch [2/10], Step [1000/1875], Loss: 0.3140\n",
      "Epoch [2/10], Step [1100/1875], Loss: 0.1747\n",
      "Epoch [2/10], Step [1200/1875], Loss: 0.1879\n",
      "Epoch [2/10], Step [1300/1875], Loss: 0.2446\n",
      "Epoch [2/10], Step [1400/1875], Loss: 0.1848\n",
      "Epoch [2/10], Step [1500/1875], Loss: 0.1465\n",
      "Epoch [2/10], Step [1600/1875], Loss: 0.4945\n",
      "Epoch [2/10], Step [1700/1875], Loss: 0.2217\n",
      "Epoch [2/10], Step [1800/1875], Loss: 0.3631\n",
      "Valid Epoch [2/10], Step [1875/1875], Loss: 0.0892\n",
      "Epoch [3/10], Step [100/1875], Loss: 0.0900\n",
      "Epoch [3/10], Step [200/1875], Loss: 0.3670\n",
      "Epoch [3/10], Step [300/1875], Loss: 0.3666\n",
      "Epoch [3/10], Step [400/1875], Loss: 0.2828\n",
      "Epoch [3/10], Step [500/1875], Loss: 0.1953\n",
      "Epoch [3/10], Step [600/1875], Loss: 0.1186\n",
      "Epoch [3/10], Step [700/1875], Loss: 0.1920\n",
      "Epoch [3/10], Step [800/1875], Loss: 0.1798\n",
      "Epoch [3/10], Step [900/1875], Loss: 0.1255\n",
      "Epoch [3/10], Step [1000/1875], Loss: 0.2062\n",
      "Epoch [3/10], Step [1100/1875], Loss: 0.2456\n",
      "Epoch [3/10], Step [1200/1875], Loss: 0.1699\n",
      "Epoch [3/10], Step [1300/1875], Loss: 0.0344\n",
      "Epoch [3/10], Step [1400/1875], Loss: 0.1159\n",
      "Epoch [3/10], Step [1500/1875], Loss: 0.3516\n",
      "Epoch [3/10], Step [1600/1875], Loss: 0.0494\n",
      "Epoch [3/10], Step [1700/1875], Loss: 0.2498\n",
      "Epoch [3/10], Step [1800/1875], Loss: 0.1891\n",
      "Valid Epoch [3/10], Step [1875/1875], Loss: 0.0321\n",
      "Epoch [4/10], Step [100/1875], Loss: 0.1856\n",
      "Epoch [4/10], Step [200/1875], Loss: 0.1281\n",
      "Epoch [4/10], Step [300/1875], Loss: 0.0772\n",
      "Epoch [4/10], Step [400/1875], Loss: 0.0386\n",
      "Epoch [4/10], Step [500/1875], Loss: 0.1499\n",
      "Epoch [4/10], Step [600/1875], Loss: 0.0843\n",
      "Epoch [4/10], Step [700/1875], Loss: 0.2264\n",
      "Epoch [4/10], Step [800/1875], Loss: 0.1864\n",
      "Epoch [4/10], Step [900/1875], Loss: 0.1211\n",
      "Epoch [4/10], Step [1000/1875], Loss: 0.1227\n",
      "Epoch [4/10], Step [1100/1875], Loss: 0.0561\n",
      "Epoch [4/10], Step [1200/1875], Loss: 0.1104\n",
      "Epoch [4/10], Step [1300/1875], Loss: 0.0544\n",
      "Epoch [4/10], Step [1400/1875], Loss: 0.1640\n",
      "Epoch [4/10], Step [1500/1875], Loss: 0.0610\n",
      "Epoch [4/10], Step [1600/1875], Loss: 0.2980\n",
      "Epoch [4/10], Step [1700/1875], Loss: 0.0793\n",
      "Epoch [4/10], Step [1800/1875], Loss: 0.1853\n",
      "Valid Epoch [4/10], Step [1875/1875], Loss: 0.0195\n",
      "Epoch [5/10], Step [100/1875], Loss: 0.1194\n",
      "Epoch [5/10], Step [200/1875], Loss: 0.1566\n",
      "Epoch [5/10], Step [300/1875], Loss: 0.0984\n",
      "Epoch [5/10], Step [400/1875], Loss: 0.0752\n",
      "Epoch [5/10], Step [500/1875], Loss: 0.1252\n",
      "Epoch [5/10], Step [600/1875], Loss: 0.0802\n",
      "Epoch [5/10], Step [700/1875], Loss: 0.1567\n",
      "Epoch [5/10], Step [800/1875], Loss: 0.1992\n",
      "Epoch [5/10], Step [900/1875], Loss: 0.1476\n",
      "Epoch [5/10], Step [1000/1875], Loss: 0.1894\n",
      "Epoch [5/10], Step [1100/1875], Loss: 0.0920\n",
      "Epoch [5/10], Step [1200/1875], Loss: 0.1202\n",
      "Epoch [5/10], Step [1300/1875], Loss: 0.0561\n",
      "Epoch [5/10], Step [1400/1875], Loss: 0.0543\n",
      "Epoch [5/10], Step [1500/1875], Loss: 0.1006\n",
      "Epoch [5/10], Step [1600/1875], Loss: 0.0670\n",
      "Epoch [5/10], Step [1700/1875], Loss: 0.1103\n",
      "Epoch [5/10], Step [1800/1875], Loss: 0.1500\n",
      "Valid Epoch [5/10], Step [1875/1875], Loss: 0.0164\n",
      "Epoch [6/10], Step [100/1875], Loss: 0.0961\n",
      "Epoch [6/10], Step [200/1875], Loss: 0.1375\n",
      "Epoch [6/10], Step [300/1875], Loss: 0.1664\n",
      "Epoch [6/10], Step [400/1875], Loss: 0.2254\n",
      "Epoch [6/10], Step [500/1875], Loss: 0.2161\n",
      "Epoch [6/10], Step [600/1875], Loss: 0.0531\n",
      "Epoch [6/10], Step [700/1875], Loss: 0.1124\n",
      "Epoch [6/10], Step [800/1875], Loss: 0.1532\n",
      "Epoch [6/10], Step [900/1875], Loss: 0.0988\n",
      "Epoch [6/10], Step [1000/1875], Loss: 0.1932\n",
      "Epoch [6/10], Step [1100/1875], Loss: 0.0759\n",
      "Epoch [6/10], Step [1200/1875], Loss: 0.0805\n",
      "Epoch [6/10], Step [1300/1875], Loss: 0.0604\n",
      "Epoch [6/10], Step [1400/1875], Loss: 0.0561\n",
      "Epoch [6/10], Step [1500/1875], Loss: 0.0735\n",
      "Epoch [6/10], Step [1600/1875], Loss: 0.0765\n",
      "Epoch [6/10], Step [1700/1875], Loss: 0.1750\n",
      "Epoch [6/10], Step [1800/1875], Loss: 0.1133\n",
      "Valid Epoch [6/10], Step [1875/1875], Loss: 0.0175\n",
      "Epoch [7/10], Step [100/1875], Loss: 0.1638\n",
      "Epoch [7/10], Step [200/1875], Loss: 0.0588\n",
      "Epoch [7/10], Step [300/1875], Loss: 0.0703\n",
      "Epoch [7/10], Step [400/1875], Loss: 0.0305\n",
      "Epoch [7/10], Step [500/1875], Loss: 0.1107\n",
      "Epoch [7/10], Step [600/1875], Loss: 0.0990\n",
      "Epoch [7/10], Step [700/1875], Loss: 0.2218\n",
      "Epoch [7/10], Step [800/1875], Loss: 0.2720\n",
      "Epoch [7/10], Step [900/1875], Loss: 0.1398\n",
      "Epoch [7/10], Step [1000/1875], Loss: 0.1021\n",
      "Epoch [7/10], Step [1100/1875], Loss: 0.0607\n",
      "Epoch [7/10], Step [1200/1875], Loss: 0.2367\n",
      "Epoch [7/10], Step [1300/1875], Loss: 0.1343\n",
      "Epoch [7/10], Step [1400/1875], Loss: 0.0263\n",
      "Epoch [7/10], Step [1500/1875], Loss: 0.1053\n",
      "Epoch [7/10], Step [1600/1875], Loss: 0.0570\n",
      "Epoch [7/10], Step [1700/1875], Loss: 0.2028\n",
      "Epoch [7/10], Step [1800/1875], Loss: 0.0861\n",
      "Valid Epoch [7/10], Step [1875/1875], Loss: 0.0108\n",
      "Epoch [8/10], Step [100/1875], Loss: 0.1219\n",
      "Epoch [8/10], Step [200/1875], Loss: 0.0766\n",
      "Epoch [8/10], Step [300/1875], Loss: 0.2319\n",
      "Epoch [8/10], Step [400/1875], Loss: 0.1424\n",
      "Epoch [8/10], Step [500/1875], Loss: 0.2032\n",
      "Epoch [8/10], Step [600/1875], Loss: 0.0972\n",
      "Epoch [8/10], Step [700/1875], Loss: 0.0729\n",
      "Epoch [8/10], Step [800/1875], Loss: 0.0617\n",
      "Epoch [8/10], Step [900/1875], Loss: 0.1950\n",
      "Epoch [8/10], Step [1000/1875], Loss: 0.0254\n",
      "Epoch [8/10], Step [1100/1875], Loss: 0.0614\n",
      "Epoch [8/10], Step [1200/1875], Loss: 0.0806\n",
      "Epoch [8/10], Step [1300/1875], Loss: 0.0754\n",
      "Epoch [8/10], Step [1400/1875], Loss: 0.0498\n",
      "Epoch [8/10], Step [1500/1875], Loss: 0.0689\n",
      "Epoch [8/10], Step [1600/1875], Loss: 0.0224\n",
      "Epoch [8/10], Step [1700/1875], Loss: 0.0632\n",
      "Epoch [8/10], Step [1800/1875], Loss: 0.0462\n",
      "Valid Epoch [8/10], Step [1875/1875], Loss: 0.0120\n",
      "Epoch [9/10], Step [100/1875], Loss: 0.2822\n",
      "Epoch [9/10], Step [200/1875], Loss: 0.2600\n",
      "Epoch [9/10], Step [300/1875], Loss: 0.0393\n",
      "Epoch [9/10], Step [400/1875], Loss: 0.1417\n",
      "Epoch [9/10], Step [500/1875], Loss: 0.0936\n",
      "Epoch [9/10], Step [600/1875], Loss: 0.0746\n",
      "Epoch [9/10], Step [700/1875], Loss: 0.1195\n",
      "Epoch [9/10], Step [800/1875], Loss: 0.0795\n",
      "Epoch [9/10], Step [900/1875], Loss: 0.0243\n",
      "Epoch [9/10], Step [1000/1875], Loss: 0.0730\n",
      "Epoch [9/10], Step [1100/1875], Loss: 0.0915\n",
      "Epoch [9/10], Step [1200/1875], Loss: 0.1183\n",
      "Epoch [9/10], Step [1300/1875], Loss: 0.0817\n",
      "Epoch [9/10], Step [1400/1875], Loss: 0.1114\n",
      "Epoch [9/10], Step [1500/1875], Loss: 0.1565\n",
      "Epoch [9/10], Step [1600/1875], Loss: 0.2081\n",
      "Epoch [9/10], Step [1700/1875], Loss: 0.0907\n",
      "Epoch [9/10], Step [1800/1875], Loss: 0.1096\n",
      "Valid Epoch [9/10], Step [1875/1875], Loss: 0.0096\n",
      "Epoch [10/10], Step [100/1875], Loss: 0.0393\n",
      "Epoch [10/10], Step [200/1875], Loss: 0.0929\n",
      "Epoch [10/10], Step [300/1875], Loss: 0.0889\n",
      "Epoch [10/10], Step [400/1875], Loss: 0.0952\n",
      "Epoch [10/10], Step [500/1875], Loss: 0.1902\n",
      "Epoch [10/10], Step [600/1875], Loss: 0.1060\n",
      "Epoch [10/10], Step [700/1875], Loss: 0.3060\n",
      "Epoch [10/10], Step [800/1875], Loss: 0.0450\n",
      "Epoch [10/10], Step [900/1875], Loss: 0.2079\n",
      "Epoch [10/10], Step [1000/1875], Loss: 0.1105\n",
      "Epoch [10/10], Step [1100/1875], Loss: 0.0183\n",
      "Epoch [10/10], Step [1200/1875], Loss: 0.0293\n",
      "Epoch [10/10], Step [1300/1875], Loss: 0.0933\n",
      "Epoch [10/10], Step [1400/1875], Loss: 0.1356\n",
      "Epoch [10/10], Step [1500/1875], Loss: 0.0471\n",
      "Epoch [10/10], Step [1600/1875], Loss: 0.1439\n",
      "Epoch [10/10], Step [1700/1875], Loss: 0.2573\n",
      "Epoch [10/10], Step [1800/1875], Loss: 0.1241\n",
      "Valid Epoch [10/10], Step [1875/1875], Loss: 0.0094\n"
     ]
    }
   ],
   "source": [
    "# Train the model\n",
    "results = {}\n",
    "total_step = len(train_loader)\n",
    "train_loss_history = []\n",
    "test_loss_history = []\n",
    "test_accuracy_history = []\n",
    "running_loss = 0.0\n",
    "\n",
    "for epoch in range(num_epochs):\n",
    "    for i, (images, labels) in enumerate(train_loader):\n",
    "        images = images.to(device)\n",
    "        labels = labels.to(device)\n",
    "        \n",
    "        # Forward pass\n",
    "        outputs = model(images)\n",
    "        loss = criterion(outputs, labels)\n",
    "        \n",
    "        # Backward and optimize\n",
    "        optimizer.zero_grad()\n",
    "        loss.backward()\n",
    "        optimizer.step()\n",
    "        scheduler.step(loss)\n",
    "        \n",
    "        running_loss += loss.item() * images.size(0)\n",
    "    \n",
    "        train_loss = running_loss / len(train_loader.dataset)      \n",
    "        \n",
    "        if (i+1) % 100 == 0:\n",
    "            print ('Epoch [{}/{}], Step [{}/{}], Loss: {:.4f}' \n",
    "                   .format(epoch+1, num_epochs, i+1, total_step, loss.item()))\n",
    "    train_loss_history.append(train_loss)\n",
    "    \n",
    "    # validation process\n",
    "    model.eval()  # eval mode (batchnorm uses moving mean/variance instead of mini-batch mean/variance)\n",
    "    with torch.no_grad():\n",
    "        correct = 0\n",
    "        total = 0\n",
    "        test_loss = 0.0\n",
    "        for images, labels in test_loader:\n",
    "            images = images.to(device)\n",
    "            labels = labels.to(device)\n",
    "            outputs = model(images)\n",
    "            loss = criterion(outputs, labels)\n",
    "            test_loss += loss.item() * images.size(0)\n",
    "            _, predicted = torch.max(outputs.data, 1)\n",
    "            total += labels.size(0)\n",
    "            correct += (predicted == labels).sum().item()\n",
    "        test_loss, test_accuracy = test_loss / len(test_loader.dataset), 100 * correct / total\n",
    "        test_loss_history.append(test_loss)\n",
    "        test_accuracy_history.append(test_accuracy)\n",
    "        print('Valid Epoch [{}/{}], Step [{}/{}], Loss: {:.4f}' \n",
    "                   .format(epoch+1, num_epochs, i+1, total_step,loss.item()))"
   ]
  },
  {
   "cell_type": "code",
   "execution_count": 23,
   "metadata": {},
   "outputs": [
    {
     "name": "stdout",
     "output_type": "stream",
     "text": [
      "Test Accuracy of the model on the 10000 test images: 98.02 %\n"
     ]
    }
   ],
   "source": [
    "print('Test Accuracy of the model on the 10000 test images: {} %'.format(test_accuracy))"
   ]
  },
  {
   "cell_type": "markdown",
   "metadata": {},
   "source": [
    "## Saving your model\n",
    "Using `torch.save`, save your model for future loading."
   ]
  },
  {
   "cell_type": "code",
   "execution_count": 28,
   "metadata": {},
   "outputs": [
    {
     "name": "stdout",
     "output_type": "stream",
     "text": [
      "Model saved successfully!\n"
     ]
    }
   ],
   "source": [
    "# Save the model\n",
    "PATH = f'saved_models/hpo_model.pt'\n",
    "torch.save(model, PATH)\n",
    "\n",
    "print(\"Model saved successfully!\")"
   ]
  }
 ],
 "metadata": {
  "kernelspec": {
   "display_name": "Python 3 (ipykernel)",
   "language": "python",
   "name": "python3"
  },
  "language_info": {
   "codemirror_mode": {
    "name": "ipython",
    "version": 3
   },
   "file_extension": ".py",
   "mimetype": "text/x-python",
   "name": "python",
   "nbconvert_exporter": "python",
   "pygments_lexer": "ipython3",
   "version": "3.10.9"
  }
 },
 "nbformat": 4,
 "nbformat_minor": 4
}
